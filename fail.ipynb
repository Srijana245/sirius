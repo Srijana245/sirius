{
 "cells": [
  {
   "cell_type": "code",
   "execution_count": 10,
   "id": "a627e63f",
   "metadata": {},
   "outputs": [
    {
     "name": "stdout",
     "output_type": "stream",
     "text": [
      "                  J-H   H-K\n",
      "0    J-H   H-K          NaN\n",
      "1               -0.14 -0.04\n",
      "2               -0.13 -0.04\n",
      "3               -0.12 -0.04\n",
      "4               -0.10 -0.03\n",
      "5               -0.09 -0.03\n",
      "6               -0.08 -0.02\n",
      "7               -0.07 -0.02\n",
      "8               -0.06 -0.01\n",
      "9               -0.05 -0.01\n",
      "10              -0.03 -0.01\n",
      "11              -0.03  0.00\n",
      "12              -0.01  0.00\n",
      "13              0.00   0.00\n",
      "14              0.01   0.01\n",
      "15              0.06   0.02\n",
      "16              0.09   0.03\n",
      "17              0.13   0.03\n",
      "18              0.17   0.04\n",
      "19              0.23   0.04\n",
      "20              0.29   0.05\n",
      "21              0.31   0.05\n",
      "22              0.32   0.05\n",
      "23              0.33   0.06\n",
      "24              0.37   0.06\n",
      "25              0.45   0.08\n",
      "26              0.50   0.09\n",
      "27              0.58   0.11\n",
      "28              0.61   0.11\n",
      "29              0.66   0.15\n",
      "30              0.67   0.17\n",
      "31              0.66   0.18\n",
      "32              0.66   0.20\n",
      "33              0.64   0.23\n",
      "34              0.62   0.27\n",
      "35              0.62   0.33\n",
      "36              0.66   0.38\n"
     ]
    }
   ],
   "source": [
    "import matplotlib.pyplot as plt\n",
    "import matplotlib.ticker \n",
    "import numpy as np\n",
    "import pandas as pd\n",
    "data = pd.read_csv('C:/Users/hp/.spyder-py3/teffcol_bbb.csv', names = ['J-H','H-K'], sep = '/')\n",
    "print(data)"
   ]
  },
  {
   "cell_type": "code",
   "execution_count": 11,
   "id": "5b679980",
   "metadata": {},
   "outputs": [
    {
     "name": "stdout",
     "output_type": "stream",
     "text": [
      "[[' J-H   H-K       ' nan]\n",
      " ['-0.14' -0.04]\n",
      " ['-0.13' -0.04]\n",
      " ['-0.12' -0.04]\n",
      " ['-0.10' -0.03]\n",
      " ['-0.09' -0.03]\n",
      " ['-0.08' -0.02]\n",
      " ['-0.07' -0.02]\n",
      " ['-0.06' -0.01]\n",
      " ['-0.05' -0.01]\n",
      " ['-0.03' -0.01]\n",
      " ['-0.03' 0.0]\n",
      " ['-0.01' 0.0]\n",
      " ['0.00 ' 0.0]\n",
      " ['0.01 ' 0.01]\n",
      " ['0.06 ' 0.02]\n",
      " ['0.09 ' 0.03]\n",
      " ['0.13 ' 0.03]\n",
      " ['0.17 ' 0.04]\n",
      " ['0.23 ' 0.04]\n",
      " ['0.29 ' 0.05]\n",
      " ['0.31 ' 0.05]\n",
      " ['0.32 ' 0.05]\n",
      " ['0.33 ' 0.06]\n",
      " ['0.37 ' 0.06]\n",
      " ['0.45 ' 0.08]\n",
      " ['0.50 ' 0.09]\n",
      " ['0.58 ' 0.11]\n",
      " ['0.61 ' 0.11]\n",
      " ['0.66 ' 0.15]\n",
      " ['0.67 ' 0.17]\n",
      " ['0.66 ' 0.18]\n",
      " ['0.66 ' 0.2]\n",
      " ['0.64 ' 0.23]\n",
      " ['0.62 ' 0.27]\n",
      " ['0.62 ' 0.33]\n",
      " ['0.66 ' 0.38]]\n"
     ]
    }
   ],
   "source": [
    "arr = data.to_numpy()\n",
    "print(arr)\n"
   ]
  },
  {
   "cell_type": "code",
   "execution_count": 13,
   "id": "45b937fa",
   "metadata": {},
   "outputs": [
    {
     "name": "stdout",
     "output_type": "stream",
     "text": [
      "[-0.04 -0.04 -0.04 -0.03 -0.03 -0.02 -0.02 -0.01 -0.01 -0.01 0.0 0.0 0.0\n",
      " 0.01 0.02 0.03 0.03 0.04 0.04 0.05 0.05 0.05 0.06 0.06 0.08 0.09 0.11\n",
      " 0.11 0.15 0.17 0.18 0.2 0.23 0.27 0.33 0.38]\n"
     ]
    }
   ],
   "source": [
    "x = (arr[:, 1])\n",
    "x = np.delete(x, 0)\n",
    "print(x)"
   ]
  },
  {
   "cell_type": "code",
   "execution_count": 15,
   "id": "17d48270",
   "metadata": {},
   "outputs": [
    {
     "name": "stdout",
     "output_type": "stream",
     "text": [
      "[-0.14 -0.13 -0.12 -0.1  -0.09 -0.08 -0.07 -0.06 -0.05 -0.03 -0.03 -0.01\n",
      "  0.    0.01  0.06  0.09  0.13  0.17  0.23  0.29  0.31  0.32  0.33  0.37\n",
      "  0.45  0.5   0.58  0.61  0.66  0.67  0.66  0.66  0.64  0.62  0.62  0.66]\n"
     ]
    }
   ],
   "source": [
    "y1 = (arr[:, 0])\n",
    "y = np.delete(y1, 0)\n",
    "y = y.astype('float64')\n",
    "print(y)"
   ]
  },
  {
   "cell_type": "markdown",
   "id": "eaa95ad3",
   "metadata": {},
   "source": [
    "# "
   ]
  },
  {
   "cell_type": "code",
   "execution_count": 16,
   "id": "d7b16eb9",
   "metadata": {},
   "outputs": [
    {
     "data": {
      "image/png": "[encoded data removed]",
      "text/plain": [
       "<Figure size 432x288 with 2 Axes>"
      ]
     },
     "metadata": {
      "needs_background": "light"
     },
     "output_type": "display_data"
    }
   ],
   "source": [
    "plt.title(\"Line graph\")\n",
    "plt.xlabel('H-K')\n",
    "plt.ylabel('J-H')\n",
    "ax = plt.axes()\n",
    "ax.xaxis.set_major_locator(plt.MultipleLocator(0.5))\n",
    "ax.yaxis.set_major_locator(plt.MultipleLocator(0.9))\n",
    "plt.plot(x, y)\n",
    "plt.show()\n"
   ]
  },
  {
   "cell_type": "code",
   "execution_count": null,
   "id": "5e9e78b2",
   "metadata": {},
   "outputs": [],
   "source": []
  },
  {
   "cell_type": "code",
   "execution_count": null,
   "id": "798f5f2c",
   "metadata": {},
   "outputs": [],
   "source": []
  }
 ],
 "metadata": {
  "kernelspec": {
   "display_name": "Python 3",
   "language": "python",
   "name": "python3"
  },
  "language_info": {
   "codemirror_mode": {
    "name": "ipython",
    "version": 3
   },
   "file_extension": ".py",
   "mimetype": "text/x-python",
   "name": "python",
   "nbconvert_exporter": "python",
   "pygments_lexer": "ipython3",
   "version": "3.8.8"
  }
 },
 "nbformat": 4,
 "nbformat_minor": 5
}
